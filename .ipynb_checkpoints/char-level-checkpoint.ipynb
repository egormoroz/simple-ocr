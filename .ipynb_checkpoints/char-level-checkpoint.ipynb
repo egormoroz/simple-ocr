{
 "cells": [
  {
   "cell_type": "code",
   "execution_count": 1,
   "id": "2e60811d-3fe4-43ff-8e70-7972fd6fcf4d",
   "metadata": {},
   "outputs": [],
   "source": [
    "import glob, string, string\n",
    "from PIL import Image\n",
    "\n",
    "import torch\n",
    "import torch.nn as nn, torch.nn.functional as F\n",
    "from torch.utils.data import Dataset, DataLoader, Subset\n",
    "\n",
    "import torchvision as tv\n",
    "import torchvision.transforms.v2 as T\n",
    "TFN = T.functional\n",
    "from einops import rearrange\n",
    "\n",
    "from tqdm.notebook import tqdm\n",
    "import matplotlib.pyplot as plt"
   ]
  },
  {
   "cell_type": "code",
   "execution_count": 2,
   "id": "a808fe5d-ccfe-4978-81f5-3d3eaa2a8ed7",
   "metadata": {},
   "outputs": [],
   "source": [
    "from models.ocrnet import OCRNet\n",
    "from util import EMA"
   ]
  },
  {
   "cell_type": "code",
   "execution_count": 3,
   "id": "fc6f66e7-db98-45ab-88de-2cb475cb0b33",
   "metadata": {},
   "outputs": [
    {
     "name": "stdout",
     "output_type": "stream",
     "text": [
      "{'backbone': {'ch_in': 1, 'n_layers': 4, 'init_filters': 8, 'ch_out': 8},\n",
      " 'encoder': {'ch_in': 8,\n",
      "             'n_ctx': 16,\n",
      "             'patch_size': [2, 2],\n",
      "             'n_blocks': 4,\n",
      "             'n_embd': 192,\n",
      "             'n_heads': 4},\n",
      " 'decoder': {'n_ctx': 34,\n",
      "             'n_vocab': 100,\n",
      "             'n_blocks': 4,\n",
      "             'n_embd': 192,\n",
      "             'n_heads': 4}}\n"
     ]
    }
   ],
   "source": [
    "import yaml, pprint\n",
    "with open('charlevel2.yaml') as f:\n",
    "    cfg = yaml.load(f, yaml.Loader)['config']\n",
    "pprint.pp(cfg)"
   ]
  },
  {
   "cell_type": "code",
   "execution_count": 4,
   "id": "5b8db299-2a04-408c-8ea6-05b52dab8c4b",
   "metadata": {},
   "outputs": [],
   "source": [
    "n_vocab = cfg['decoder']['n_vocab']\n",
    "n_enc_ctx = cfg['encoder']['n_ctx']\n",
    "n_dec_ctx = cfg['decoder']['n_ctx']"
   ]
  },
  {
   "cell_type": "code",
   "execution_count": 5,
   "id": "6d429a53-3faf-4845-a9df-61b7032ca546",
   "metadata": {},
   "outputs": [],
   "source": [
    "vocab = string.printable\n",
    "stoi = { ch:i for i, ch in enumerate(vocab) }\n",
    "itos = { i:ch for i, ch in enumerate(vocab) }\n",
    "bos, bos_id = '\\r', stoi['\\r']\n",
    "eos, eos_id = '\\n', stoi['\\n']\n",
    "assert len(vocab) == n_vocab"
   ]
  },
  {
   "cell_type": "code",
   "execution_count": 6,
   "id": "149b8f4c-d6a9-4fbe-b3e7-8ec73a8f52c6",
   "metadata": {},
   "outputs": [
    {
     "data": {
      "text/plain": [
       "'0123456789abcdefghijklmnopqrstuvwxyzABCDEFGHIJKLMNOPQRSTUVWXYZ!\"#$%&\\'()*+,-./:;<=>?@[\\\\]^_`{|}~ \\t\\n\\r\\x0b\\x0c'"
      ]
     },
     "execution_count": 6,
     "metadata": {},
     "output_type": "execute_result"
    }
   ],
   "source": [
    "vocab"
   ]
  },
  {
   "cell_type": "code",
   "execution_count": 8,
   "id": "be88b9de-2396-4ba5-8460-d8e4fa1136ee",
   "metadata": {},
   "outputs": [],
   "source": [
    "def encode(s):\n",
    "    return torch.tensor([stoi[ch] for ch in s])\n",
    "\n",
    "def decode(x):\n",
    "    x = x.squeeze()\n",
    "    return ''.join(itos[i] for i in x.tolist())"
   ]
  },
  {
   "cell_type": "code",
   "execution_count": 9,
   "id": "d7c6b8cd-3968-42db-bfd1-f43123269607",
   "metadata": {},
   "outputs": [],
   "source": [
    "class SynthData(Dataset):\n",
    "    def __init__(self, folders, filter=None, transform=None):\n",
    "        super().__init__()\n",
    "        self.folders = folders\n",
    "        self.data = []\n",
    "        for folder in folders:\n",
    "            with open(folder + '/labels.txt') as f:\n",
    "                for entry in f:\n",
    "                    fname, text = entry.strip().split(maxsplit=1)\n",
    "                    fpath = folder + '/' + fname\n",
    "                    if filter and not filter(fpath, text):\n",
    "                        continue\n",
    "                    self.data.append((fpath, text))\n",
    "        self.transform = transform\n",
    "\n",
    "    def __len__(self):\n",
    "        return len(self.data)\n",
    "\n",
    "    def __getitem__(self, idx):\n",
    "        im_path, text = self.data[idx]\n",
    "        im = Image.open(im_path)\n",
    "        if self.transform:\n",
    "            return self.transform(im, text)\n",
    "        return im, text"
   ]
  },
  {
   "cell_type": "code",
   "execution_count": 10,
   "id": "21616f05-efc1-4cb7-9243-f7faccb4cfcc",
   "metadata": {},
   "outputs": [],
   "source": [
    "def data_filter(fpath, text):\n",
    "    if len(text) + 2 > n_dec_ctx:\n",
    "        return False\n",
    "    if any(c not in string.printable for c in text):\n",
    "        return False\n",
    "    return Image.open(fpath).size[0] < 512"
   ]
  },
  {
   "cell_type": "code",
   "execution_count": 11,
   "id": "1775b58b-9139-437d-95ae-d1d4d29b618d",
   "metadata": {},
   "outputs": [],
   "source": [
    "transforms = T.Compose([\n",
    "    T.RandomAffine(degrees=0, scale=(0.95, 1.05), translate=(0.01, 0.01)),\n",
    "])\n",
    "def transform(im, text=None):\n",
    "    im = TFN.to_dtype(TFN.to_image(im)) / 255\n",
    "    im = 1 - im\n",
    "    ar = im.size(-1) / im.size(-2)\n",
    "    im = TFN.resize(im, (32, int(ar * 32)))\n",
    "    dx = 512 - im.size(-1)\n",
    "    im = TFN.pad(im, (0, 0, dx, 0), fill=0)\n",
    "\n",
    "    if text is None:\n",
    "        return im, None, None\n",
    "    \n",
    "    n_pad = n_dec_ctx - len(text) - 1\n",
    "    toks = encode(bos + text + eos*n_pad)\n",
    "    x_ctx = toks[:-1]\n",
    "    target = toks[1:]\n",
    "    \n",
    "    return transforms(im), x_ctx, target"
   ]
  },
  {
   "cell_type": "code",
   "execution_count": 12,
   "id": "eac48ca9-8e16-489b-88f6-18dd92d2bbcb",
   "metadata": {},
   "outputs": [],
   "source": [
    "def collate_fn(data):\n",
    "    n = len(data)\n",
    "    x_im = torch.vstack([data[i][0] for i in range(n)])[:, None, :, :]\n",
    "    x_ctx = torch.vstack([data[i][1] for i in range(n)])\n",
    "    target = torch.vstack([data[i][2] for i in range(n)])\n",
    "    return (x_im, x_ctx), target"
   ]
  },
  {
   "cell_type": "code",
   "execution_count": 13,
   "id": "e9953d4e-2455-474a-8eee-41e9967d0815",
   "metadata": {},
   "outputs": [],
   "source": [
    "ds = SynthData(glob.glob('data/*'), data_filter, transform)"
   ]
  },
  {
   "cell_type": "code",
   "execution_count": 14,
   "id": "d56e6146-5992-4cbd-a447-6ae3f0904416",
   "metadata": {},
   "outputs": [
    {
     "data": {
      "text/plain": [
       "339529"
      ]
     },
     "execution_count": 14,
     "metadata": {},
     "output_type": "execute_result"
    }
   ],
   "source": [
    "len(ds)"
   ]
  },
  {
   "cell_type": "code",
   "execution_count": 15,
   "id": "a895ef8a-d892-4f75-bed7-7ed015e4fff0",
   "metadata": {},
   "outputs": [],
   "source": [
    "dl = torch.utils.data.DataLoader(ds, 512, num_workers=4, shuffle=True, collate_fn=collate_fn)"
   ]
  },
  {
   "cell_type": "code",
   "execution_count": 16,
   "id": "2acd0548-e96e-4e85-9e48-7671f928a16f",
   "metadata": {},
   "outputs": [
    {
     "name": "stdout",
     "output_type": "stream",
     "text": [
      "4476194\n"
     ]
    }
   ],
   "source": [
    "torch.manual_seed(42)\n",
    "net = OCRNet(cfg).cuda()\n",
    "print(sum(p.numel() for p in net.parameters()))"
   ]
  },
  {
   "cell_type": "code",
   "execution_count": 17,
   "id": "7d4c499a-e9d7-417e-9d51-39ce53ad47e5",
   "metadata": {},
   "outputs": [
    {
     "data": {
      "text/plain": [
       "<All keys matched successfully>"
      ]
     },
     "execution_count": 17,
     "metadata": {},
     "output_type": "execute_result"
    }
   ],
   "source": [
    "net.load_state_dict(torch.load('ckpts/charlevel-tiny.pt'))"
   ]
  },
  {
   "cell_type": "code",
   "execution_count": null,
   "id": "23ef235d-52bf-4606-9e7a-df03fdd5f9b5",
   "metadata": {},
   "outputs": [],
   "source": [
    "net.backbone.load_state_dict(torch.load('ckpts/cnn2.pt'))"
   ]
  },
  {
   "cell_type": "code",
   "execution_count": 18,
   "id": "345a5fdf-d9ea-4d24-9420-eeb547c3d315",
   "metadata": {},
   "outputs": [],
   "source": [
    "opt = net.configure_optimizers(device='cuda', lr=1e-3)"
   ]
  },
  {
   "cell_type": "code",
   "execution_count": null,
   "id": "7e7b88fd-7059-4fa9-a4e4-8bb6c962a59a",
   "metadata": {},
   "outputs": [],
   "source": [
    "for p in net.backbone.parameters():\n",
    "    p.requires_grad = False"
   ]
  },
  {
   "cell_type": "code",
   "execution_count": 19,
   "id": "561bee7e-c282-4d90-898c-a5ed4362ec09",
   "metadata": {},
   "outputs": [],
   "source": [
    "scaler = torch.cuda.amp.GradScaler()\n",
    "torch.set_float32_matmul_precision('high')"
   ]
  },
  {
   "cell_type": "code",
   "execution_count": 23,
   "id": "593335ce-7f1b-4f3b-b300-f002cdf2f105",
   "metadata": {},
   "outputs": [],
   "source": [
    "for g in opt.param_groups:\n",
    "    g['lr'] = 3e-5"
   ]
  },
  {
   "cell_type": "code",
   "execution_count": 21,
   "id": "eb5154dc-a917-494b-a972-a01adf6ebfcd",
   "metadata": {},
   "outputs": [],
   "source": [
    "ema_loss = EMA()"
   ]
  },
  {
   "cell_type": "code",
   "execution_count": 24,
   "id": "35c53056-6738-441f-a956-6c56c130c9c2",
   "metadata": {},
   "outputs": [
    {
     "data": {
      "application/vnd.jupyter.widget-view+json": {
       "model_id": "b2b181c1b4fc47ebabcc68a68e3b6dd7",
       "version_major": 2,
       "version_minor": 0
      },
      "text/plain": [
       "  0%|          | 0/664 [00:00<?, ?it/s]"
      ]
     },
     "metadata": {},
     "output_type": "display_data"
    },
    {
     "ename": "KeyboardInterrupt",
     "evalue": "",
     "output_type": "error",
     "traceback": [
      "\u001b[0;31m---------------------------------------------------------------------------\u001b[0m",
      "\u001b[0;31mKeyboardInterrupt\u001b[0m                         Traceback (most recent call last)",
      "Cell \u001b[0;32mIn[24], line 21\u001b[0m\n\u001b[1;32m     17\u001b[0m     scaler\u001b[38;5;241m.\u001b[39mupdate()\n\u001b[1;32m     18\u001b[0m     opt\u001b[38;5;241m.\u001b[39mzero_grad(set_to_none\u001b[38;5;241m=\u001b[39m\u001b[38;5;28;01mTrue\u001b[39;00m)\n\u001b[0;32m---> 21\u001b[0m ema_loss\u001b[38;5;241m.\u001b[39mupdate(\u001b[43mloss\u001b[49m\u001b[38;5;241;43m.\u001b[39;49m\u001b[43mitem\u001b[49m\u001b[43m(\u001b[49m\u001b[43m)\u001b[49m \u001b[38;5;241m*\u001b[39m grad_acc_steps)\n\u001b[1;32m     22\u001b[0m t\u001b[38;5;241m.\u001b[39mset_description(\u001b[38;5;124mf\u001b[39m\u001b[38;5;124m'\u001b[39m\u001b[38;5;124mloss \u001b[39m\u001b[38;5;132;01m{\u001b[39;00mema_loss\u001b[38;5;241m.\u001b[39mvalue\u001b[38;5;132;01m:\u001b[39;00m\u001b[38;5;124m.4f\u001b[39m\u001b[38;5;132;01m}\u001b[39;00m\u001b[38;5;124m acc \u001b[39m\u001b[38;5;132;01m{\u001b[39;00macc\u001b[38;5;241m.\u001b[39mitem()\u001b[38;5;132;01m:\u001b[39;00m\u001b[38;5;124m.4f\u001b[39m\u001b[38;5;132;01m}\u001b[39;00m\u001b[38;5;124m'\u001b[39m)\n",
      "\u001b[0;31mKeyboardInterrupt\u001b[0m: "
     ]
    }
   ],
   "source": [
    "net.train()\n",
    "step, grad_acc_steps = 0, 1\n",
    "for _ in range(10):\n",
    "    for (x_im, x_ctx), target in (t := tqdm(dl)):\n",
    "        x_im, x_ctx, target = x_im.cuda(), x_ctx.cuda(), target.cuda()\n",
    "        with torch.autocast(device_type='cuda', dtype=torch.bfloat16):\n",
    "            logits, loss = net(x_im, x_ctx, target)\n",
    "            loss /= grad_acc_steps\n",
    "    \n",
    "        with torch.no_grad():\n",
    "            acc = torch.mean(logits.argmax(-1) == target, dtype=torch.float)\n",
    "        \n",
    "        scaler.scale(loss).backward()\n",
    "        step += 1\n",
    "        if step % grad_acc_steps == 0:\n",
    "            scaler.step(opt)\n",
    "            scaler.update()\n",
    "            opt.zero_grad(set_to_none=True)\n",
    "    \n",
    "        \n",
    "        ema_loss.update(loss.item() * grad_acc_steps)\n",
    "        t.set_description(f'loss {ema_loss.value:.4f} acc {acc.item():.4f}')"
   ]
  },
  {
   "cell_type": "code",
   "execution_count": 43,
   "id": "1bc93e0e-fac1-474d-bc83-8636e5b2cc67",
   "metadata": {},
   "outputs": [],
   "source": [
    "torch.save(net.state_dict(), 'ckpts/tinyv2.pt')"
   ]
  },
  {
   "cell_type": "code",
   "execution_count": 26,
   "id": "179b0d6b-48c1-427d-9c2d-3d1867d3d733",
   "metadata": {},
   "outputs": [
    {
     "data": {
      "application/vnd.jupyter.widget-view+json": {
       "model_id": "5e7af522065e411a8ce7e4fd682a62fa",
       "version_major": 2,
       "version_minor": 0
      },
      "text/plain": [
       "  0%|          | 0/664 [00:00<?, ?it/s]"
      ]
     },
     "metadata": {},
     "output_type": "display_data"
    }
   ],
   "source": [
    "net.eval()\n",
    "with torch.inference_mode():\n",
    "    for (x_im, x_ctx), target in (t := tqdm(dl)):\n",
    "        x_im, x_ctx, target = x_im.cuda(), x_ctx.cuda(), target.cuda()\n",
    "        with torch.autocast(device_type='cuda', dtype=torch.bfloat16):\n",
    "            preds, loss = net(x_im, x_ctx, target)\n",
    "        break"
   ]
  },
  {
   "cell_type": "code",
   "execution_count": 27,
   "id": "b0f75da8-4b8e-4a09-9770-cf3b85f3b64b",
   "metadata": {},
   "outputs": [
    {
     "data": {
      "text/plain": [
       "(torch.Size([512, 33, 100]), torch.Size([512, 33]))"
      ]
     },
     "execution_count": 27,
     "metadata": {},
     "output_type": "execute_result"
    }
   ],
   "source": [
    "preds.shape, target.shape"
   ]
  },
  {
   "cell_type": "code",
   "execution_count": 28,
   "id": "26664fb9-6ccb-4465-bdab-7221be97e0c8",
   "metadata": {},
   "outputs": [],
   "source": [
    "preds = preds.argmax(-1).cpu()"
   ]
  },
  {
   "cell_type": "code",
   "execution_count": 29,
   "id": "04af4c8f-603a-416c-a6b9-87086969aecf",
   "metadata": {},
   "outputs": [
    {
     "data": {
      "text/plain": [
       "'horee-bou transmutations\\n\\n\\n\\n\\n\\n\\n\\n\\n'"
      ]
     },
     "execution_count": 29,
     "metadata": {},
     "output_type": "execute_result"
    }
   ],
   "source": [
    "decode(preds[1])"
   ]
  },
  {
   "cell_type": "code",
   "execution_count": 30,
   "id": "f6efc7a7-2833-4541-b6b4-1cf41e2b9e1e",
   "metadata": {},
   "outputs": [
    {
     "data": {
      "text/plain": [
       "'horse-box transmutations\\n\\n\\n\\n\\n\\n\\n\\n\\n'"
      ]
     },
     "execution_count": 30,
     "metadata": {},
     "output_type": "execute_result"
    }
   ],
   "source": [
    "decode(target[1])"
   ]
  },
  {
   "cell_type": "code",
   "execution_count": 31,
   "id": "1ac134f9-ea44-439e-a8fa-8df331328a32",
   "metadata": {},
   "outputs": [],
   "source": [
    "@torch.inference_mode()\n",
    "def predict(x_im):\n",
    "    net.eval()\n",
    "    if x_im.ndim != 4:\n",
    "        x_im = x_im.view(-1, 1, x_im.size(-2), x_im.size(-1))\n",
    "    x_enc = net.encoder(net.backbone(x_im.cuda()))\n",
    "    x_ctx = torch.tensor([bos_id], device='cuda')\n",
    "    while True:\n",
    "        logits = net.decoder(x_ctx[None], x_enc)\n",
    "        tok_idx = logits[:, -1, :].argmax(-1)\n",
    "        if tok_idx == eos_id or len(x_ctx) >= n_dec_ctx:\n",
    "            break\n",
    "        x_ctx = torch.cat((x_ctx, tok_idx))\n",
    "\n",
    "    return decode(x_ctx)[1:]"
   ]
  },
  {
   "cell_type": "code",
   "execution_count": 32,
   "id": "dce4d059-0319-492e-8bbb-0a96428cd45d",
   "metadata": {},
   "outputs": [
    {
     "data": {
      "text/plain": [
       "tensor([97, 87, 83, 85, 94, 26, 19, 23, 84, 90, 66, 74,  5, 84, 96, 96, 96, 96,\n",
       "        96, 96, 96, 96, 96, 96, 96, 96, 96, 96, 96, 96, 96, 96, 96],\n",
       "       device='cuda:0')"
      ]
     },
     "execution_count": 32,
     "metadata": {},
     "output_type": "execute_result"
    }
   ],
   "source": [
    "x_ctx[0]"
   ]
  },
  {
   "cell_type": "code",
   "execution_count": 33,
   "id": "16c4688c-9107-4006-ab7f-fd0f9e72e200",
   "metadata": {},
   "outputs": [
    {
     "data": {
      "text/plain": [
       "'panmixy'"
      ]
     },
     "execution_count": 33,
     "metadata": {},
     "output_type": "execute_result"
    }
   ],
   "source": [
    "predict(x_im[[4]])"
   ]
  },
  {
   "cell_type": "code",
   "execution_count": 34,
   "id": "338205f8-d3ee-4e5a-963b-1a87f200cb85",
   "metadata": {},
   "outputs": [
    {
     "data": {
      "text/plain": [
       "<matplotlib.image.AxesImage at 0x7f624855d570>"
      ]
     },
     "execution_count": 34,
     "metadata": {},
     "output_type": "execute_result"
    },
    {
     "data": {
      "image/png": "[encoded data removed]",
      "text/plain": [
       "<Figure size 640x480 with 1 Axes>"
      ]
     },
     "metadata": {},
     "output_type": "display_data"
    }
   ],
   "source": [
    "plt.imshow(x_im[4].cpu().squeeze(), cmap='gray')"
   ]
  },
  {
   "cell_type": "code",
   "execution_count": 35,
   "id": "89c2491e-31f9-4895-940b-55ef205ff2e0",
   "metadata": {},
   "outputs": [],
   "source": [
    "def impreprocess(im):\n",
    "    return transform(im)[0]"
   ]
  },
  {
   "cell_type": "code",
   "execution_count": 36,
   "id": "6173c97c-f036-444e-ba93-55bd384dcb18",
   "metadata": {},
   "outputs": [
    {
     "name": "stdout",
     "output_type": "stream",
     "text": [
      "['crops/0.jpg', 'crops/1.jpg', 'crops/10.jpg', 'crops/11.jpg', 'crops/12.jpg', 'crops/13.jpg', 'crops/14.jpg', 'crops/15.jpg', 'crops/16.jpg', 'crops/17.jpg', 'crops/18.jpg', 'crops/2.jpg', 'crops/3.jpg', 'crops/4.jpg', 'crops/5.jpg', 'crops/6.jpg', 'crops/7.jpg', 'crops/8.jpg', 'crops/9.jpg']\n"
     ]
    }
   ],
   "source": [
    "import glob\n",
    "from PIL import Image\n",
    "crop_files = sorted(glob.glob('crops/*.jpg'))\n",
    "print(crop_files)"
   ]
  },
  {
   "cell_type": "code",
   "execution_count": 42,
   "id": "3e256915-940c-440e-a1b2-bd24541e7fb2",
   "metadata": {},
   "outputs": [
    {
     "name": "stdout",
     "output_type": "stream",
     "text": [
      "Java.\n"
     ]
    },
    {
     "data": {
      "image/png": "[encoded data removed]",
      "text/plain": [
       "<PIL.JpegImagePlugin.JpegImageFile image mode=L size=61x33>"
      ]
     },
     "execution_count": 42,
     "metadata": {},
     "output_type": "execute_result"
    }
   ],
   "source": [
    "im = Image.open(crop_files[4])\n",
    "print(predict(impreprocess(im)).strip())\n",
    "im"
   ]
  },
  {
   "cell_type": "code",
   "execution_count": 41,
   "id": "78c0dad3-bf61-4d37-a7af-9635ac47cd9f",
   "metadata": {},
   "outputs": [],
   "source": [
    "x_im = impreprocess(im)"
   ]
  },
  {
   "cell_type": "code",
   "execution_count": 42,
   "id": "3971eca9-a434-4400-94a7-6d658fb241f1",
   "metadata": {},
   "outputs": [
    {
     "data": {
      "text/plain": [
       "<matplotlib.image.AxesImage at 0x7f892c4f4a90>"
      ]
     },
     "execution_count": 42,
     "metadata": {},
     "output_type": "execute_result"
    },
    {
     "data": {
      "image/png": "[encoded data removed]",
      "text/plain": [
       "<Figure size 640x480 with 1 Axes>"
      ]
     },
     "metadata": {},
     "output_type": "display_data"
    }
   ],
   "source": [
    "plt.imshow(x_im.squeeze(), cmap='gray')"
   ]
  },
  {
   "cell_type": "code",
   "execution_count": 43,
   "id": "69de0912-27c2-4e29-ac87-3054547fbd7f",
   "metadata": {},
   "outputs": [
    {
     "data": {
      "text/plain": [
       "'other'"
      ]
     },
     "execution_count": 43,
     "metadata": {},
     "output_type": "execute_result"
    }
   ],
   "source": [
    "predict(x_im)"
   ]
  },
  {
   "cell_type": "code",
   "execution_count": null,
   "id": "d5048842-2a7f-446c-b09a-9d66e4182995",
   "metadata": {},
   "outputs": [],
   "source": []
  }
 ],
 "metadata": {
  "kernelspec": {
   "display_name": "Python 3 (ipykernel)",
   "language": "python",
   "name": "python3"
  },
  "language_info": {
   "codemirror_mode": {
    "name": "ipython",
    "version": 3
   },
   "file_extension": ".py",
   "mimetype": "text/x-python",
   "name": "python",
   "nbconvert_exporter": "python",
   "pygments_lexer": "ipython3",
   "version": "3.10.12"
  }
 },
 "nbformat": 4,
 "nbformat_minor": 5
}
