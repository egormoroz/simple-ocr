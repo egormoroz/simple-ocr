{
 "cells": [
  {
   "cell_type": "code",
   "execution_count": 1,
   "id": "084091eb-f387-41b7-b3fb-fdfc920c0043",
   "metadata": {},
   "outputs": [
    {
     "name": "stdout",
     "output_type": "stream",
     "text": [
      "/home/ktnkdoomer/Documents/imgproc/simple\n"
     ]
    }
   ],
   "source": [
    "%cd ../"
   ]
  },
  {
   "cell_type": "code",
   "execution_count": 2,
   "id": "2e60811d-3fe4-43ff-8e70-7972fd6fcf4d",
   "metadata": {},
   "outputs": [
    {
     "name": "stderr",
     "output_type": "stream",
     "text": [
      "/home/ktnkdoomer/Documents/imgproc/simple/trainer.py:7: TqdmExperimentalWarning: Using `tqdm.autonotebook.tqdm` in notebook mode. Use `tqdm.tqdm` instead to force console mode (e.g. in jupyter console)\n",
      "  from tqdm.autonotebook import trange, tqdm\n"
     ]
    }
   ],
   "source": [
    "from models.ocrnet import OCRNet\n",
    "from util import SynthDataset\n",
    "from trainer import Trainer, gen_train_config\n",
    "\n",
    "import torch\n",
    "from torch.utils.data import DataLoader\n",
    "import torchvision.transforms.v2 as T\n",
    "TFN = T.functional\n",
    "\n",
    "import yaml, pprint, string, os\n",
    "import matplotlib.pyplot as plt\n",
    "\n",
    "torch.set_float32_matmul_precision('high')"
   ]
  },
  {
   "cell_type": "code",
   "execution_count": 3,
   "id": "e9953d4e-2455-474a-8eee-41e9967d0815",
   "metadata": {},
   "outputs": [],
   "source": [
    "def entry_filter(entry):\n",
    "    text, w = entry['text'], entry['w']\n",
    "    if len(text) + 2 > n_dec_ctx:\n",
    "        return False\n",
    "    if any(c not in string.printable for c in text):\n",
    "        return False\n",
    "    return w < 512\n",
    "\n",
    "\n",
    "def collate_fn(data):\n",
    "    n = len(data)\n",
    "    x_im = torch.vstack([data[i][0] for i in range(n)])[:, None, :, :]\n",
    "    x_ctx = torch.vstack([data[i][1] for i in range(n)])\n",
    "    target = torch.vstack([data[i][2] for i in range(n)])\n",
    "    return (x_im, x_ctx), target\n",
    "\n",
    "\n",
    "transforms = T.Compose([\n",
    "    T.RandomAffine(degrees=0, scale=(0.9, 1.1), translate=(0.05, 0.05)),\n",
    "])\n",
    "\n",
    "\n",
    "def preprocess(im, text=None):\n",
    "    im = TFN.to_dtype(TFN.to_image(im)) / 255\n",
    "    im = 1 - im\n",
    "    ar = im.size(-1) / im.size(-2)\n",
    "    im = TFN.resize(im, (32, int(ar * 32)))\n",
    "    dx = 512 - im.size(-1)\n",
    "    im = TFN.pad(im, (0, 0, dx, 0), fill=0)\n",
    "\n",
    "    if text is None:\n",
    "        return im, None, None\n",
    "    \n",
    "    n_pad = n_dec_ctx - len(text) - 1\n",
    "    toks = encode(bos + text + eos*n_pad)\n",
    "    x_ctx = toks[:-1]\n",
    "    target = toks[1:]\n",
    "    \n",
    "    return im, x_ctx, target "
   ]
  },
  {
   "cell_type": "code",
   "execution_count": 4,
   "id": "5b7236d4-c9f1-412a-bc54-b3f4b1e72a79",
   "metadata": {},
   "outputs": [
    {
     "name": "stdout",
     "output_type": "stream",
     "text": [
      "{'backbone': {'ch_in': 1, 'n_layers': 4, 'init_filters': 8, 'ch_out': 8},\n",
      " 'encoder': {'ch_in': 8,\n",
      "             'n_ctx': 16,\n",
      "             'patch_size': [2, 2],\n",
      "             'n_blocks': 4,\n",
      "             'n_embd': 192,\n",
      "             'n_heads': 4},\n",
      " 'decoder': {'n_ctx': 34,\n",
      "             'n_vocab': 100,\n",
      "             'n_blocks': 4,\n",
      "             'n_embd': 192,\n",
      "             'n_heads': 4}}\n"
     ]
    }
   ],
   "source": [
    "with open('configs/charlevel-tiny.yaml') as f:\n",
    "    cfg = yaml.load(f, yaml.Loader)['config']\n",
    "pprint.pp(cfg)\n",
    "\n",
    "n_vocab = cfg['decoder']['n_vocab']\n",
    "n_enc_ctx = cfg['encoder']['n_ctx']\n",
    "n_dec_ctx = cfg['decoder']['n_ctx']\n",
    "\n",
    "# define character-level tokenizer\n",
    "\n",
    "vocab = string.printable\n",
    "stoi = { ch:i for i, ch in enumerate(vocab) }\n",
    "itos = { i:ch for i, ch in enumerate(vocab) }\n",
    "bos, bos_id = '\\r', stoi['\\r']\n",
    "eos, eos_id = '\\n', stoi['\\n']\n",
    "assert len(vocab) == n_vocab\n",
    "\n",
    "encode = lambda s: torch.tensor([stoi[ch] for ch in s])\n",
    "decode = lambda x: ''.join(itos[i] for i in x.view(-1).tolist())"
   ]
  },
  {
   "cell_type": "code",
   "execution_count": 5,
   "id": "a895ef8a-d892-4f75-bed7-7ed015e4fff0",
   "metadata": {},
   "outputs": [
    {
     "name": "stdout",
     "output_type": "stream",
     "text": [
      "807990 entries in train\n",
      "19960 entries in val\n"
     ]
    }
   ],
   "source": [
    "def train_transform(im, text):\n",
    "    x_im, x_ctx, target = preprocess(im, text)\n",
    "    return transforms(x_im), x_ctx, target\n",
    "\n",
    "ds_train = SynthDataset('data/train.json', entry_filter, train_transform)\n",
    "print(len(ds_train), 'entries in train')\n",
    "ds_val = SynthDataset('data/val.json', entry_filter, preprocess)\n",
    "print(len(ds_val), 'entries in val')"
   ]
  },
  {
   "cell_type": "code",
   "execution_count": 6,
   "id": "2acd0548-e96e-4e85-9e48-7671f928a16f",
   "metadata": {},
   "outputs": [],
   "source": [
    "batch_size = 256\n",
    "train_cfg = gen_train_config(\n",
    "        device='cuda', \n",
    "        batches_per_epoch=len(ds_train) // batch_size, \n",
    "        epochs=5,\n",
    "        lr=4e-3,\n",
    "        bs=batch_size)\n",
    "\n",
    "dl_train = DataLoader(ds_train, train_cfg.batch_size, shuffle=True, \n",
    "                      collate_fn=collate_fn, num_workers=4, drop_last=True)\n",
    "dl_val = DataLoader(ds_val, train_cfg.batch_size, shuffle=False,\n",
    "                    collate_fn=collate_fn, num_workers=4, drop_last=True)\n",
    "\n",
    "ckpt_path = 'ckpts/best_model.pt'"
   ]
  },
  {
   "cell_type": "code",
   "execution_count": 7,
   "id": "7d4c499a-e9d7-417e-9d51-39ce53ad47e5",
   "metadata": {},
   "outputs": [
    {
     "name": "stdout",
     "output_type": "stream",
     "text": [
      "304034 CNN params\n",
      "1782144 encoder params\n",
      "2390016 decoder params\n"
     ]
    }
   ],
   "source": [
    "torch.manual_seed(42)\n",
    "net = OCRNet(cfg).to(train_cfg.device)\n",
    "count_params = lambda m: sum(p.numel() for p in m.parameters())\n",
    "print(count_params(net.backbone), 'CNN params')\n",
    "print(count_params(net.encoder), 'encoder params')\n",
    "print(count_params(net.decoder), 'decoder params')"
   ]
  },
  {
   "cell_type": "code",
   "execution_count": 8,
   "id": "23ef235d-52bf-4606-9e7a-df03fdd5f9b5",
   "metadata": {},
   "outputs": [],
   "source": [
    "# if os.path.isfile(ckpt_path):\n",
    "#     print(net.load_state_dict(torch.load(ckpt_path)))"
   ]
  },
  {
   "cell_type": "code",
   "execution_count": 9,
   "id": "f1fd1db9-d242-431a-8dc4-46326c308e2c",
   "metadata": {},
   "outputs": [],
   "source": [
    "net = torch.compile(net)"
   ]
  },
  {
   "cell_type": "code",
   "execution_count": 10,
   "id": "345a5fdf-d9ea-4d24-9420-eeb547c3d315",
   "metadata": {},
   "outputs": [
    {
     "data": {
      "application/vnd.jupyter.widget-view+json": {
       "model_id": "cd66d992d4ae46a6815836fd2c2535a4",
       "version_major": 2,
       "version_minor": 0
      },
      "text/plain": [
       "  0%|          | 0/5 [00:00<?, ?it/s]"
      ]
     },
     "metadata": {},
     "output_type": "display_data"
    },
    {
     "data": {
      "application/vnd.jupyter.widget-view+json": {
       "model_id": "066fd8b624cc450d97b4b57623bcc3d1",
       "version_major": 2,
       "version_minor": 0
      },
      "text/plain": [
       "  0%|          | 0/3156 [00:00<?, ?it/s]"
      ]
     },
     "metadata": {},
     "output_type": "display_data"
    },
    {
     "data": {
      "application/vnd.jupyter.widget-view+json": {
       "model_id": "30265b01992a46d587fec57a8b5395b2",
       "version_major": 2,
       "version_minor": 0
      },
      "text/plain": [
       "  0%|          | 0/3156 [00:00<?, ?it/s]"
      ]
     },
     "metadata": {},
     "output_type": "display_data"
    },
    {
     "data": {
      "application/vnd.jupyter.widget-view+json": {
       "model_id": "bb6ff0691701493b852b0a498154d1fb",
       "version_major": 2,
       "version_minor": 0
      },
      "text/plain": [
       "  0%|          | 0/3156 [00:00<?, ?it/s]"
      ]
     },
     "metadata": {},
     "output_type": "display_data"
    },
    {
     "data": {
      "application/vnd.jupyter.widget-view+json": {
       "model_id": "a17effb1523842a49b63ecc1a0b1ad9f",
       "version_major": 2,
       "version_minor": 0
      },
      "text/plain": [
       "  0%|          | 0/3156 [00:00<?, ?it/s]"
      ]
     },
     "metadata": {},
     "output_type": "display_data"
    },
    {
     "data": {
      "application/vnd.jupyter.widget-view+json": {
       "model_id": "73bbfff0777c4050a027cb9c79d789bb",
       "version_major": 2,
       "version_minor": 0
      },
      "text/plain": [
       "  0%|          | 0/3156 [00:00<?, ?it/s]"
      ]
     },
     "metadata": {},
     "output_type": "display_data"
    },
    {
     "name": "stdout",
     "output_type": "stream",
     "text": [
      "** best VL 0.0091\n"
     ]
    }
   ],
   "source": [
    "def on_best_model(_, model, epoch):\n",
    "    torch.save(model.state_dict(), ckpt_path)\n",
    "\n",
    "trainer = Trainer(train_cfg)\n",
    "trainer.on_best_model = on_best_model\n",
    "trainer.train(net, dl_train, dl_val)"
   ]
  },
  {
   "cell_type": "code",
   "execution_count": 11,
   "id": "179b0d6b-48c1-427d-9c2d-3d1867d3d733",
   "metadata": {},
   "outputs": [],
   "source": [
    "net.eval()\n",
    "with torch.inference_mode():\n",
    "    for (x_im, x_ctx), target in dl_train:\n",
    "        x_im, x_ctx, target = x_im.cuda(), x_ctx.cuda(), target.cuda()\n",
    "        with torch.autocast(device_type='cuda', dtype=torch.bfloat16):\n",
    "            preds, loss = net(x_im, x_ctx, target)\n",
    "        break"
   ]
  },
  {
   "cell_type": "code",
   "execution_count": 12,
   "id": "b0f75da8-4b8e-4a09-9770-cf3b85f3b64b",
   "metadata": {},
   "outputs": [
    {
     "data": {
      "text/plain": [
       "(torch.Size([256, 33, 100]), torch.Size([256, 33]))"
      ]
     },
     "execution_count": 12,
     "metadata": {},
     "output_type": "execute_result"
    }
   ],
   "source": [
    "preds.shape, target.shape"
   ]
  },
  {
   "cell_type": "code",
   "execution_count": 13,
   "id": "26664fb9-6ccb-4465-bdab-7221be97e0c8",
   "metadata": {},
   "outputs": [],
   "source": [
    "preds = preds.argmax(-1).cpu()"
   ]
  },
  {
   "cell_type": "code",
   "execution_count": 14,
   "id": "04af4c8f-603a-416c-a6b9-87086969aecf",
   "metadata": {},
   "outputs": [
    {
     "data": {
      "text/plain": [
       "'hathoric eyeopener\\n\\n\\n\\n\\n\\n\\n\\n\\n\\n\\n\\n\\n\\n\\n'"
      ]
     },
     "execution_count": 14,
     "metadata": {},
     "output_type": "execute_result"
    }
   ],
   "source": [
    "decode(preds[1])"
   ]
  },
  {
   "cell_type": "code",
   "execution_count": 15,
   "id": "f6efc7a7-2833-4541-b6b4-1cf41e2b9e1e",
   "metadata": {},
   "outputs": [
    {
     "data": {
      "text/plain": [
       "'Hathoric eyeopener\\n\\n\\n\\n\\n\\n\\n\\n\\n\\n\\n\\n\\n\\n\\n'"
      ]
     },
     "execution_count": 15,
     "metadata": {},
     "output_type": "execute_result"
    }
   ],
   "source": [
    "decode(target[1])"
   ]
  },
  {
   "cell_type": "code",
   "execution_count": 16,
   "id": "1ac134f9-ea44-439e-a8fa-8df331328a32",
   "metadata": {},
   "outputs": [],
   "source": [
    "@torch.inference_mode()\n",
    "def predict(x_im):\n",
    "    net.eval()\n",
    "    if x_im.ndim != 4:\n",
    "        x_im = x_im.view(-1, 1, x_im.size(-2), x_im.size(-1))\n",
    "    x_enc = net.encoder(net.backbone(x_im.cuda()))\n",
    "    x_ctx = torch.tensor([bos_id], device='cuda')\n",
    "    while True:\n",
    "        logits = net.decoder(x_ctx[None], x_enc)\n",
    "        tok_idx = logits[:, -1, :].argmax(-1)\n",
    "        if tok_idx == eos_id or len(x_ctx) >= n_dec_ctx:\n",
    "            break\n",
    "        x_ctx = torch.cat((x_ctx, tok_idx))\n",
    "\n",
    "    return decode(x_ctx)[1:]"
   ]
  },
  {
   "cell_type": "code",
   "execution_count": 17,
   "id": "dce4d059-0319-492e-8bbb-0a96428cd45d",
   "metadata": {},
   "outputs": [
    {
     "data": {
      "text/plain": [
       "tensor([97, 49, 14, 24, 11, 10, 21, 10, 14, 23, 10, 96, 96, 96, 96, 96, 96, 96,\n",
       "        96, 96, 96, 96, 96, 96, 96, 96, 96, 96, 96, 96, 96, 96, 96],\n",
       "       device='cuda:0')"
      ]
     },
     "execution_count": 17,
     "metadata": {},
     "output_type": "execute_result"
    }
   ],
   "source": [
    "x_ctx[0]"
   ]
  },
  {
   "cell_type": "code",
   "execution_count": 18,
   "id": "16c4688c-9107-4006-ab7f-fd0f9e72e200",
   "metadata": {},
   "outputs": [
    {
     "data": {
      "text/plain": [
       "'homanatomic Gaim'"
      ]
     },
     "execution_count": 18,
     "metadata": {},
     "output_type": "execute_result"
    }
   ],
   "source": [
    "predict(x_im[[2]])"
   ]
  },
  {
   "cell_type": "code",
   "execution_count": 19,
   "id": "338205f8-d3ee-4e5a-963b-1a87f200cb85",
   "metadata": {},
   "outputs": [
    {
     "data": {
      "text/plain": [
       "<matplotlib.image.AxesImage at 0x7f53712a3430>"
      ]
     },
     "execution_count": 19,
     "metadata": {},
     "output_type": "execute_result"
    },
    {
     "data": {
      "image/png": "[encoded data removed]",
      "text/plain": [
       "<Figure size 640x480 with 1 Axes>"
      ]
     },
     "metadata": {},
     "output_type": "display_data"
    }
   ],
   "source": [
    "plt.imshow(x_im[2].cpu().squeeze(), cmap='gray')"
   ]
  },
  {
   "cell_type": "code",
   "execution_count": 20,
   "id": "89c2491e-31f9-4895-940b-55ef205ff2e0",
   "metadata": {},
   "outputs": [],
   "source": [
    "def impreprocess(im):\n",
    "    return transform(im)[0]"
   ]
  },
  {
   "cell_type": "code",
   "execution_count": 21,
   "id": "6173c97c-f036-444e-ba93-55bd384dcb18",
   "metadata": {},
   "outputs": [
    {
     "name": "stdout",
     "output_type": "stream",
     "text": [
      "['crops/0.jpg', 'crops/1.jpg', 'crops/10.jpg', 'crops/11.jpg', 'crops/12.jpg', 'crops/13.jpg', 'crops/14.jpg', 'crops/15.jpg', 'crops/16.jpg', 'crops/17.jpg', 'crops/18.jpg', 'crops/2.jpg', 'crops/3.jpg', 'crops/4.jpg', 'crops/5.jpg', 'crops/6.jpg', 'crops/7.jpg', 'crops/8.jpg', 'crops/9.jpg']\n"
     ]
    }
   ],
   "source": [
    "import glob\n",
    "from PIL import Image\n",
    "crop_files = sorted(glob.glob('crops/*.jpg'))\n",
    "print(crop_files)"
   ]
  },
  {
   "cell_type": "code",
   "execution_count": 22,
   "id": "3e256915-940c-440e-a1b2-bd24541e7fb2",
   "metadata": {},
   "outputs": [
    {
     "name": "stdout",
     "output_type": "stream",
     "text": [
      "C++,\n"
     ]
    },
    {
     "data": {
      "image/png": "[encoded data removed]",
      "text/plain": [
       "<PIL.JpegImagePlugin.JpegImageFile image mode=L size=55x33>"
      ]
     },
     "execution_count": 22,
     "metadata": {},
     "output_type": "execute_result"
    }
   ],
   "source": [
    "im = Image.open(crop_files[2])\n",
    "print(predict(preprocess(im)[0]).strip())\n",
    "im"
   ]
  },
  {
   "cell_type": "markdown",
   "id": "59b3b034-f4b4-4cf3-bfe3-d4a4e560871b",
   "metadata": {},
   "source": [
    "# Let's plot some metrics"
   ]
  },
  {
   "cell_type": "code",
   "execution_count": 23,
   "id": "536b2f63-735a-4d08-9c11-0b395bd79df5",
   "metadata": {},
   "outputs": [],
   "source": [
    "import numpy as np"
   ]
  },
  {
   "cell_type": "code",
   "execution_count": 24,
   "id": "bbf8bce7-17e0-4a62-860f-b471b02a6f64",
   "metadata": {},
   "outputs": [
    {
     "data": {
      "image/png": "[encoded data removed]",
      "text/plain": [
       "<Figure size 640x480 with 1 Axes>"
      ]
     },
     "metadata": {},
     "output_type": "display_data"
    }
   ],
   "source": [
    "steps = np.arange(len(trainer.bls))\n",
    "plt.plot(steps, trainer.bls, label='batch loss')\n",
    "plt.plot(steps, trainer.accs, label='batch acc')\n",
    "plt.ylim(0, 1)\n",
    "plt.xlabel('step')\n",
    "plt.legend()\n",
    "plt.show()"
   ]
  },
  {
   "cell_type": "code",
   "execution_count": 28,
   "id": "19d455ed-83cf-4c45-9f0b-6070c1a247cc",
   "metadata": {},
   "outputs": [
    {
     "data": {
      "image/png": "[encoded data removed]",
      "text/plain": [
       "<Figure size 640x480 with 1 Axes>"
      ]
     },
     "metadata": {},
     "output_type": "display_data"
    }
   ],
   "source": [
    "epochs = np.arange(len(trainer.metrics))\n",
    "getm = lambda met: [metric[met] for metric in trainer.metrics]\n",
    "for metric in trainer.metrics[0].keys():\n",
    "    plt.plot(epochs, getm(metric), label=metric)\n",
    "plt.ylim(0, 1)\n",
    "plt.legend()\n",
    "plt.show()"
   ]
  },
  {
   "cell_type": "code",
   "execution_count": 32,
   "id": "26bfe9d6-2d45-4202-9d29-711e83f92151",
   "metadata": {},
   "outputs": [],
   "source": [
    "torch.save(net._orig_mod.state_dict(), ckpt_path)"
   ]
  },
  {
   "cell_type": "code",
   "execution_count": null,
   "id": "254112ca-375a-4edf-a0b8-b4bba8583ee6",
   "metadata": {},
   "outputs": [],
   "source": []
  }
 ],
 "metadata": {
  "kernelspec": {
   "display_name": "Python 3 (ipykernel)",
   "language": "python",
   "name": "python3"
  },
  "language_info": {
   "codemirror_mode": {
    "name": "ipython",
    "version": 3
   },
   "file_extension": ".py",
   "mimetype": "text/x-python",
   "name": "python",
   "nbconvert_exporter": "python",
   "pygments_lexer": "ipython3",
   "version": "3.10.12"
  }
 },
 "nbformat": 4,
 "nbformat_minor": 5
}
