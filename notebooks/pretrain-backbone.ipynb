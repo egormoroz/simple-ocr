{
 "cells": [
  {
   "cell_type": "code",
   "execution_count": 1,
   "id": "c295b863-663b-40e2-b451-9c9ca64d29e1",
   "metadata": {},
   "outputs": [],
   "source": [
    "import glob, string\n",
    "from PIL import Image\n",
    "\n",
    "import torch\n",
    "import torch.nn as nn, torch.nn.functional as F\n",
    "from torch.utils.data import Dataset, DataLoader, Subset\n",
    "\n",
    "import torchvision as tv\n",
    "import torchvision.transforms.v2 as T\n",
    "TFN = T.functional\n",
    "from einops import rearrange\n",
    "\n",
    "from tqdm.notebook import tqdm\n",
    "import matplotlib.pyplot as plt"
   ]
  },
  {
   "cell_type": "code",
   "execution_count": 2,
   "id": "204f1535-d83f-4132-8481-1dea615bf71d",
   "metadata": {},
   "outputs": [],
   "source": [
    "from models.backbone import CNN\n",
    "from trainer import Trainer, gen_train_config"
   ]
  },
  {
   "cell_type": "code",
   "execution_count": 3,
   "id": "fd20eea1-fbc2-4bd7-ba9b-acf4c7ab0a96",
   "metadata": {},
   "outputs": [],
   "source": [
    "class SynthData(Dataset):\n",
    "    def __init__(self, folders, filter=None, transform=None):\n",
    "        super().__init__()\n",
    "        self.folders = folders\n",
    "        self.data = []\n",
    "        for folder in folders:\n",
    "            with open(folder + '/labels.txt') as f:\n",
    "                for entry in f:\n",
    "                    fname, text = entry.strip().split(maxsplit=1)\n",
    "                    fpath = folder + '/' + fname\n",
    "                    if filter and not filter(fpath, text):\n",
    "                        continue\n",
    "                    self.data.append((fpath, text))\n",
    "        self.transform = transform\n",
    "\n",
    "    def __len__(self):\n",
    "        return len(self.data)\n",
    "\n",
    "    def __getitem__(self, idx):\n",
    "        im_path, text = self.data[idx]\n",
    "        im = Image.open(im_path)\n",
    "        if self.transform:\n",
    "            return self.transform(im)\n",
    "        return im, text"
   ]
  },
  {
   "cell_type": "code",
   "execution_count": 45,
   "id": "54b81f95-b7b2-47bf-943a-1d1403345dc2",
   "metadata": {},
   "outputs": [
    {
     "name": "stdout",
     "output_type": "stream",
     "text": [
      "{'backbone': {'ch_in': 1, 'n_layers': 4, 'init_filters': 8, 'ch_out': 16},\n",
      " 'encoder': {'ch_in': 4,\n",
      "             'n_ctx': 16,\n",
      "             'patch_size': [2, 2],\n",
      "             'n_blocks': 4,\n",
      "             'n_embd': 384,\n",
      "             'n_heads': 6},\n",
      " 'decoder': {'n_ctx': 34,\n",
      "             'n_vocab': 100,\n",
      "             'n_blocks': 4,\n",
      "             'n_embd': 384,\n",
      "             'n_heads': 6}}\n"
     ]
    }
   ],
   "source": [
    "import yaml, pprint\n",
    "with open('charlevel2.yaml') as f:\n",
    "    cfg = yaml.load(f, yaml.Loader)['config']\n",
    "pprint.pp(cfg)"
   ]
  },
  {
   "cell_type": "code",
   "execution_count": 5,
   "id": "8be0fca1-f4a6-4def-a25a-10f8fd9f54bb",
   "metadata": {},
   "outputs": [],
   "source": [
    "class UpDoubleConv(nn.Module):\n",
    "    def __init__(self, ch_in, ch_out):\n",
    "        super().__init__()\n",
    "        self.layers = nn.Sequential(\n",
    "            nn.Upsample(scale_factor=2, align_corners=True, mode='bilinear'),\n",
    "            nn.Conv2d(ch_in, ch_out, 3, 1, 1, bias=False),\n",
    "            nn.BatchNorm2d(ch_out),\n",
    "            nn.ReLU(),\n",
    "            nn.Conv2d(ch_out, ch_out, 3, 1, 1, bias=False),\n",
    "            nn.BatchNorm2d(ch_out),\n",
    "            nn.ReLU(),\n",
    "        )\n",
    "\n",
    "    def forward(self, x):\n",
    "        return self.layers(x)"
   ]
  },
  {
   "cell_type": "code",
   "execution_count": 46,
   "id": "7a23b710-403c-4543-93dc-abfbd15c5ec5",
   "metadata": {},
   "outputs": [],
   "source": [
    "cnn_conf = cfg['backbone']\n",
    "fts = cnn_conf['ch_out']\n",
    "decoder = nn.Sequential(\n",
    "    nn.Conv2d(fts, 64, 3, 1, 1), nn.BatchNorm2d(64), nn.ReLU(),\n",
    "    UpDoubleConv(64, 32),\n",
    "    UpDoubleConv(32, 16),\n",
    "    UpDoubleConv(16, 8),\n",
    "    UpDoubleConv(8, 4),\n",
    "    nn.Conv2d(4, 1, 3, 1, 1),\n",
    "    nn.Sigmoid(),\n",
    ")"
   ]
  },
  {
   "cell_type": "code",
   "execution_count": 7,
   "id": "8c2b475f-927e-42f0-910d-b0c6c54335e4",
   "metadata": {},
   "outputs": [],
   "source": [
    "def data_filter(fpath, text):\n",
    "    if len(text) + 2 > cfg['decoder']['n_vocab']:\n",
    "        return False\n",
    "    if any(c not in string.printable for c in text):\n",
    "        return False\n",
    "    return Image.open(fpath).size[0] < 512"
   ]
  },
  {
   "cell_type": "code",
   "execution_count": 8,
   "id": "6372f4ef-206e-4f1d-9345-a5a7de64fbca",
   "metadata": {},
   "outputs": [],
   "source": [
    "transforms = T.Compose([\n",
    "    T.RandomAffine(degrees=0, scale=(0.8, 1.2), translate=(0.01, 0.05)),\n",
    "])\n",
    "def transform(im, text=None):\n",
    "    im = TFN.to_dtype(TFN.to_image(im)) / 255\n",
    "    im = 1 - im\n",
    "    ar = im.size(-1) / im.size(-2)\n",
    "    im = TFN.resize(im, (32, int(ar * 32)))\n",
    "    dx = 512 - im.size(-1)\n",
    "    im = TFN.pad(im, (0, 0, dx, 0), fill=0)\n",
    "\n",
    "    if text is None:\n",
    "        return im, None, None\n",
    "    \n",
    "    n_pad = n_dec_ctx - len(text) - 1\n",
    "    toks = encode(bos + text + eos*n_pad)\n",
    "    x_ctx = toks[:-1]\n",
    "    target = toks[1:]\n",
    "    \n",
    "    return transforms(im), x_ctx, target"
   ]
  },
  {
   "cell_type": "code",
   "execution_count": 3,
   "id": "1029365a-1c4b-4879-a970-b0e4bd362e20",
   "metadata": {},
   "outputs": [
    {
     "ename": "NameError",
     "evalue": "name 'SynthData' is not defined",
     "output_type": "error",
     "traceback": [
      "\u001b[0;31m---------------------------------------------------------------------------\u001b[0m",
      "\u001b[0;31mNameError\u001b[0m                                 Traceback (most recent call last)",
      "Cell \u001b[0;32mIn[3], line 1\u001b[0m\n\u001b[0;32m----> 1\u001b[0m ds \u001b[38;5;241m=\u001b[39m \u001b[43mSynthData\u001b[49m(glob\u001b[38;5;241m.\u001b[39mglob(\u001b[38;5;124m'\u001b[39m\u001b[38;5;124mdata/*\u001b[39m\u001b[38;5;124m'\u001b[39m), data_filter, transform)\n",
      "\u001b[0;31mNameError\u001b[0m: name 'SynthData' is not defined"
     ]
    }
   ],
   "source": [
    "ds = SynthData(glob.glob('data/*'), data_filter, transform)"
   ]
  },
  {
   "cell_type": "code",
   "execution_count": 2,
   "id": "ef57dc04-acfa-4a7a-a2d7-a7605fff9a01",
   "metadata": {},
   "outputs": [
    {
     "ename": "NameError",
     "evalue": "name 'ds' is not defined",
     "output_type": "error",
     "traceback": [
      "\u001b[0;31m---------------------------------------------------------------------------\u001b[0m",
      "\u001b[0;31mNameError\u001b[0m                                 Traceback (most recent call last)",
      "Cell \u001b[0;32mIn[2], line 1\u001b[0m\n\u001b[0;32m----> 1\u001b[0m \u001b[38;5;28mlen\u001b[39m(\u001b[43mds\u001b[49m)\n",
      "\u001b[0;31mNameError\u001b[0m: name 'ds' is not defined"
     ]
    }
   ],
   "source": [
    "len(ds)"
   ]
  },
  {
   "cell_type": "code",
   "execution_count": 1,
   "id": "8cb8e739-7686-4d3e-9b04-d39754360b69",
   "metadata": {},
   "outputs": [
    {
     "ename": "NameError",
     "evalue": "name 'ds' is not defined",
     "output_type": "error",
     "traceback": [
      "\u001b[0;31m---------------------------------------------------------------------------\u001b[0m",
      "\u001b[0;31mNameError\u001b[0m                                 Traceback (most recent call last)",
      "Cell \u001b[0;32mIn[1], line 1\u001b[0m\n\u001b[0;32m----> 1\u001b[0m im \u001b[38;5;241m=\u001b[39m \u001b[43mds\u001b[49m[\u001b[38;5;241m0\u001b[39m][\u001b[38;5;241m0\u001b[39m]\n",
      "\u001b[0;31mNameError\u001b[0m: name 'ds' is not defined"
     ]
    }
   ],
   "source": [
    "im = ds[0][0]"
   ]
  },
  {
   "cell_type": "code",
   "execution_count": 12,
   "id": "9328f2b7-00a9-4c3d-ac43-4f1944445109",
   "metadata": {},
   "outputs": [
    {
     "data": {
      "text/plain": [
       "<matplotlib.image.AxesImage at 0x7f4002794e80>"
      ]
     },
     "execution_count": 12,
     "metadata": {},
     "output_type": "execute_result"
    },
    {
     "data": {
      "image/png": "[encoded data removed]",
      "text/plain": [
       "<Figure size 640x480 with 1 Axes>"
      ]
     },
     "metadata": {},
     "output_type": "display_data"
    }
   ],
   "source": [
    "plt.imshow(ds[6][0].squeeze(), cmap='gray')"
   ]
  },
  {
   "cell_type": "code",
   "execution_count": 47,
   "id": "2371f8b4-d8cc-47a8-a0fc-94634859549e",
   "metadata": {},
   "outputs": [
    {
     "data": {
      "text/plain": [
       "46405"
      ]
     },
     "execution_count": 47,
     "metadata": {},
     "output_type": "execute_result"
    }
   ],
   "source": [
    "sum(p.numel() for p in decoder.parameters())"
   ]
  },
  {
   "cell_type": "code",
   "execution_count": 49,
   "id": "cba4aa03-df01-4186-ab02-0457e7596b72",
   "metadata": {},
   "outputs": [],
   "source": [
    "cnn = CNN(cnn_conf)\n",
    "model = nn.Sequential(\n",
    "    cnn,\n",
    "    decoder,\n",
    ").cuda()"
   ]
  },
  {
   "cell_type": "code",
   "execution_count": 50,
   "id": "78182267-091a-4bf6-a49d-09fa09c69011",
   "metadata": {},
   "outputs": [],
   "source": [
    "# model.load_state_dict(torch.load('ckpts/ae.pt'))\n",
    "# model = torch.compile(model)\n",
    "opt = torch.optim.AdamW(model.parameters(), lr=1e-3, fused=True)"
   ]
  },
  {
   "cell_type": "code",
   "execution_count": 32,
   "id": "cba21585-fafc-4fb3-afc1-c1ee89a58064",
   "metadata": {},
   "outputs": [],
   "source": [
    "def collate_fn(data):\n",
    "    n = len(data)\n",
    "    x_im = torch.vstack([data[i][0] for i in range(n)])[:, None, :, :]\n",
    "    # x_ctx = torch.vstack([data[i][1] for i in range(n)])\n",
    "    # target = torch.vstack([data[i][2] for i in range(n)])\n",
    "    return x_im, x_im"
   ]
  },
  {
   "cell_type": "code",
   "execution_count": 53,
   "id": "8d11ad6e-5d6b-4554-87ad-bfcbae4b2edb",
   "metadata": {},
   "outputs": [],
   "source": [
    "dl = DataLoader(ds, 64, True, num_workers=4, collate_fn=collate_fn)"
   ]
  },
  {
   "cell_type": "code",
   "execution_count": 34,
   "id": "18a20387-61e7-4171-9359-a3007d15434f",
   "metadata": {},
   "outputs": [],
   "source": [
    "torch.set_float32_matmul_precision('high')"
   ]
  },
  {
   "cell_type": "code",
   "execution_count": 41,
   "id": "c240c128-f05e-4756-8f72-6a826a369667",
   "metadata": {},
   "outputs": [],
   "source": [
    "for g in opt.param_groups:\n",
    "    g['lr'] = 3e-4"
   ]
  },
  {
   "cell_type": "code",
   "execution_count": 51,
   "id": "ceac66fb-df60-4378-be1a-15af7f3a9ed3",
   "metadata": {},
   "outputs": [],
   "source": [
    "scaler = torch.cuda.amp.GradScaler()"
   ]
  },
  {
   "cell_type": "code",
   "execution_count": 54,
   "id": "e619b548-0ded-460d-8f1b-739a3f5eddab",
   "metadata": {},
   "outputs": [
    {
     "data": {
      "application/vnd.jupyter.widget-view+json": {
       "model_id": "5639765282094405b138ff97ff766f1c",
       "version_major": 2,
       "version_minor": 0
      },
      "text/plain": [
       "  0%|          | 0/7655 [00:00<?, ?it/s]"
      ]
     },
     "metadata": {},
     "output_type": "display_data"
    },
    {
     "ename": "KeyboardInterrupt",
     "evalue": "",
     "output_type": "error",
     "traceback": [
      "\u001b[0;31m---------------------------------------------------------------------------\u001b[0m",
      "\u001b[0;31mKeyboardInterrupt\u001b[0m                         Traceback (most recent call last)",
      "Cell \u001b[0;32mIn[54], line 10\u001b[0m\n\u001b[1;32m      7\u001b[0m scaler\u001b[38;5;241m.\u001b[39mstep(opt)\n\u001b[1;32m      8\u001b[0m scaler\u001b[38;5;241m.\u001b[39mupdate()\n\u001b[0;32m---> 10\u001b[0m t\u001b[38;5;241m.\u001b[39mset_description(\u001b[38;5;124mf\u001b[39m\u001b[38;5;124m'\u001b[39m\u001b[38;5;124mloss \u001b[39m\u001b[38;5;132;01m{\u001b[39;00m\u001b[43mloss\u001b[49m\u001b[38;5;241;43m.\u001b[39;49m\u001b[43mitem\u001b[49m\u001b[43m(\u001b[49m\u001b[43m)\u001b[49m\u001b[38;5;132;01m:\u001b[39;00m\u001b[38;5;124m.4f\u001b[39m\u001b[38;5;132;01m}\u001b[39;00m\u001b[38;5;124m'\u001b[39m)\n",
      "\u001b[0;31mKeyboardInterrupt\u001b[0m: "
     ]
    }
   ],
   "source": [
    "for xb, _ in (t := tqdm(dl, total=len(dl))):\n",
    "    xb = xb.cuda()\n",
    "    with torch.autocast('cuda', dtype=torch.bfloat16):\n",
    "        loss = F.mse_loss(xb, model(xb))\n",
    "    opt.zero_grad(set_to_none=True)\n",
    "    scaler.scale(loss).backward()\n",
    "    scaler.step(opt)\n",
    "    scaler.update()\n",
    "\n",
    "    t.set_description(f'loss {loss.item():.4f}')"
   ]
  },
  {
   "cell_type": "code",
   "execution_count": 55,
   "id": "d159b467-cfcd-4772-8973-b00f070047e3",
   "metadata": {},
   "outputs": [
    {
     "data": {
      "text/plain": [
       "torch.Size([64, 1, 32, 512])"
      ]
     },
     "execution_count": 55,
     "metadata": {},
     "output_type": "execute_result"
    }
   ],
   "source": [
    "xb.shape"
   ]
  },
  {
   "cell_type": "code",
   "execution_count": 56,
   "id": "1acb96d2-6d31-44a3-a34c-6792f309fa46",
   "metadata": {},
   "outputs": [],
   "source": [
    "x = model[0](xb)"
   ]
  },
  {
   "cell_type": "code",
   "execution_count": 57,
   "id": "939f6151-5a24-49f0-ab1f-64a51c63f1df",
   "metadata": {},
   "outputs": [
    {
     "data": {
      "text/plain": [
       "torch.Size([64, 16, 2, 32])"
      ]
     },
     "execution_count": 57,
     "metadata": {},
     "output_type": "execute_result"
    }
   ],
   "source": [
    "x.shape"
   ]
  },
  {
   "cell_type": "code",
   "execution_count": 235,
   "id": "e488fe92-b6bf-4dc1-bc4c-fa2531ad9f36",
   "metadata": {},
   "outputs": [],
   "source": [
    "torch.save(model.state_dict(), 'ckpts/ae.pt')"
   ]
  },
  {
   "cell_type": "code",
   "execution_count": 58,
   "id": "2be1febc-2d4c-4169-9400-06dd929dfadf",
   "metadata": {},
   "outputs": [],
   "source": [
    "model.eval()\n",
    "with torch.inference_mode():\n",
    "    preds = model(xb)"
   ]
  },
  {
   "cell_type": "code",
   "execution_count": 59,
   "id": "225b962b-542b-4f11-ab03-7cd49e7dca8c",
   "metadata": {},
   "outputs": [],
   "source": [
    "preds = preds.cpu()"
   ]
  },
  {
   "cell_type": "code",
   "execution_count": 60,
   "id": "e9f96b58-9d62-43ee-b8ad-076fe67ceceb",
   "metadata": {},
   "outputs": [
    {
     "data": {
      "text/plain": [
       "<matplotlib.image.AxesImage at 0x7f3f4eedd840>"
      ]
     },
     "execution_count": 60,
     "metadata": {},
     "output_type": "execute_result"
    },
    {
     "data": {
      "image/png": "[encoded data removed]",
      "text/plain": [
       "<Figure size 640x480 with 1 Axes>"
      ]
     },
     "metadata": {},
     "output_type": "display_data"
    }
   ],
   "source": [
    "plt.imshow(preds[3].squeeze(), cmap='gray')"
   ]
  },
  {
   "cell_type": "code",
   "execution_count": 61,
   "id": "4fad529b-b7da-4e5f-bc3b-ab5feff70864",
   "metadata": {},
   "outputs": [],
   "source": [
    "torch.save(cnn.state_dict(), 'ckpts/cnn2.pt')"
   ]
  },
  {
   "cell_type": "code",
   "execution_count": 62,
   "id": "b687c978-8423-4365-96cf-71b9c9daa2f4",
   "metadata": {},
   "outputs": [
    {
     "data": {
      "text/plain": [
       "313258"
      ]
     },
     "execution_count": 62,
     "metadata": {},
     "output_type": "execute_result"
    }
   ],
   "source": [
    "sum(p.numel() for p in cnn.parameters())"
   ]
  },
  {
   "cell_type": "code",
   "execution_count": null,
   "id": "8023e3a5-c365-4b18-b23c-70590be5b42d",
   "metadata": {},
   "outputs": [],
   "source": []
  }
 ],
 "metadata": {
  "kernelspec": {
   "display_name": "Python 3 (ipykernel)",
   "language": "python",
   "name": "python3"
  },
  "language_info": {
   "codemirror_mode": {
    "name": "ipython",
    "version": 3
   },
   "file_extension": ".py",
   "mimetype": "text/x-python",
   "name": "python",
   "nbconvert_exporter": "python",
   "pygments_lexer": "ipython3",
   "version": "3.10.12"
  }
 },
 "nbformat": 4,
 "nbformat_minor": 5
}
