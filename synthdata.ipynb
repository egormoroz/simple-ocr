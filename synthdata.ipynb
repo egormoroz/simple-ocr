{
 "cells": [
  {
   "cell_type": "code",
   "execution_count": 1,
   "id": "42e37f0e-e4b1-4d11-b3f2-98625dc599e8",
   "metadata": {},
   "outputs": [
    {
     "name": "stdout",
     "output_type": "stream",
     "text": [
      "Missing modules for handwritten text generation.\n"
     ]
    }
   ],
   "source": [
    "import glob, os\n",
    "import cv2 as cv\n",
    "import numpy as np\n",
    "import matplotlib.pyplot as plt\n",
    "from PIL import Image\n",
    "\n",
    "import string\n",
    "from tqdm.notebook import tqdm, trange\n",
    "import datasets\n",
    "from trdg.generators import GeneratorFromStrings\n",
    "\n",
    "import tokenizers\n",
    "\n",
    "def imshow(im, ocv_format=True):\n",
    "    binary = im.shape[0] == 1\n",
    "    if ocv_format and not binary:\n",
    "        im = cv.cvtColor(im, cv.COLOR_BGR2RGB)\n",
    "    plt.imshow(im, cmap='gray' if binary else None)\n",
    "\n",
    "def imdisplay(im, ocv_format=True):\n",
    "    binary = im.shape[0] == 1\n",
    "    if ocv_format and not binary:\n",
    "        im = cv.cvtColor(im, cv.COLOR_BGR2RGB)\n",
    "    display(Image.fromarray(im))"
   ]
  },
  {
   "cell_type": "code",
   "execution_count": 2,
   "id": "de68d001-1c4b-4ce5-95f6-dfe2fdb5eba4",
   "metadata": {},
   "outputs": [],
   "source": [
    "generator = GeneratorFromStrings(['Test1', 'Test2', 'amogus haha'])"
   ]
  },
  {
   "cell_type": "code",
   "execution_count": 3,
   "id": "0d77ff5c-0636-458a-8018-bee118336dea",
   "metadata": {},
   "outputs": [
    {
     "data": {
      "image/png": "[encoded data removed]",
      "text/plain": [
       "<PIL.Image.Image image mode=RGB size=63x32>"
      ]
     },
     "execution_count": 3,
     "metadata": {},
     "output_type": "execute_result"
    }
   ],
   "source": [
    "im, text = next(generator)\n",
    "im"
   ]
  },
  {
   "cell_type": "code",
   "execution_count": 4,
   "id": "ed85057e-4f3f-41ce-bab8-29fa34158a36",
   "metadata": {},
   "outputs": [
    {
     "data": {
      "text/plain": [
       "(63, 32)"
      ]
     },
     "execution_count": 4,
     "metadata": {},
     "output_type": "execute_result"
    }
   ],
   "source": [
    "im.size"
   ]
  },
  {
   "cell_type": "code",
   "execution_count": 5,
   "id": "0074e887-0cb9-424b-8c27-f162c71aad28",
   "metadata": {},
   "outputs": [],
   "source": [
    "wikitext = datasets.load_dataset('wikitext', 'wikitext-103-raw-v1')"
   ]
  },
  {
   "cell_type": "code",
   "execution_count": 6,
   "id": "ecaeceac-d347-4bb2-b336-01fcf4e4e0b3",
   "metadata": {},
   "outputs": [],
   "source": [
    "def filter_printable(sample):\n",
    "    text = sample['text']\n",
    "    return len(text)>0 and all(c in string.printable for c in text)"
   ]
  },
  {
   "cell_type": "code",
   "execution_count": 7,
   "id": "ad41693e-e8c2-43bb-9a1a-98239111d24a",
   "metadata": {},
   "outputs": [],
   "source": [
    "wikitext = wikitext.filter(filter_printable, num_proc=4)"
   ]
  },
  {
   "cell_type": "code",
   "execution_count": 8,
   "id": "b7889cce-5916-4881-9f02-6bf0ef33017d",
   "metadata": {},
   "outputs": [
    {
     "data": {
      "text/plain": [
       "{'text': ' = Valkyria Chronicles III = \\n'}"
      ]
     },
     "execution_count": 8,
     "metadata": {},
     "output_type": "execute_result"
    }
   ],
   "source": [
    "wikitext['train'][0]"
   ]
  },
  {
   "cell_type": "code",
   "execution_count": 11,
   "id": "aa0e1d19-62ed-4373-a6ce-7b50cab7b76d",
   "metadata": {},
   "outputs": [],
   "source": [
    "tokenizer = tokenizers.ByteLevelBPETokenizer(add_prefix_space=True)\n",
    "train_from_scratch = False"
   ]
  },
  {
   "cell_type": "code",
   "execution_count": 12,
   "id": "79caa6ce-6c9a-4665-9971-3692ae8488bc",
   "metadata": {},
   "outputs": [],
   "source": [
    "def batch_iterator(ds, batch_size=1000):\n",
    "    for i in range(0, len(ds), batch_size):\n",
    "        yield ds[i : i + batch_size][\"text\"]"
   ]
  },
  {
   "cell_type": "code",
   "execution_count": 15,
   "id": "6ba76f97-2d00-429b-b4d6-a68fec507468",
   "metadata": {},
   "outputs": [],
   "source": [
    "if train_from_scratch:\n",
    "    tokenizer.train_from_iterator(\n",
    "        batch_iterator(wikitext['train']),\n",
    "        vocab_size=10240,\n",
    "        min_frequency=2,\n",
    "        show_progress=True,\n",
    "        special_tokens=['<pad>', '<s>', '</s>']\n",
    "    )\n",
    "    tokenizer.save_model('ckpts/', 'tokenizer')\n",
    "else:\n",
    "    tokenizer = tokenizer.from_file('ckpts/tokenizer-vocab.json', 'ckpts/tokenizer-merges.txt')"
   ]
  },
  {
   "cell_type": "code",
   "execution_count": 19,
   "id": "8cec53dc-b560-42b5-927f-6a0ed4f99af6",
   "metadata": {},
   "outputs": [
    {
     "name": "stdout",
     "output_type": "stream",
     "text": [
      "[260, 901, 81, 1154, 1085, 14, 603, 1953, 69, 4897, 3, 3]\n"
     ]
    },
    {
     "data": {
      "text/plain": [
       "'hello guys, desync here!!'"
      ]
     },
     "execution_count": 19,
     "metadata": {},
     "output_type": "execute_result"
    }
   ],
   "source": [
    "ids = tokenizer.encode('hello guys, desync here!!').ids\n",
    "print(ids)\n",
    "tokenizer.decode(ids)"
   ]
  },
  {
   "cell_type": "code",
   "execution_count": 22,
   "id": "29b879ba-2eae-47e3-b0f8-30d714fcb398",
   "metadata": {},
   "outputs": [],
   "source": [
    "bos, eos = tokenizer.token_to_id('<s>'), tokenizer.token_to_id('</s>')"
   ]
  },
  {
   "cell_type": "code",
   "execution_count": 23,
   "id": "1354bb53-c5e3-483f-a173-c8fce5e17076",
   "metadata": {},
   "outputs": [],
   "source": [
    "def process(sample):\n",
    "    ids = tokenizer.encode(sample['text']).ids\n",
    "    ids = [bos] + ids + [eos]\n",
    "    return { 'ids': ids, 'len': len(ids) }"
   ]
  },
  {
   "cell_type": "code",
   "execution_count": 26,
   "id": "56f9586a-94f5-4a1f-9456-554578674f57",
   "metadata": {},
   "outputs": [
    {
     "data": {
      "application/vnd.jupyter.widget-view+json": {
       "model_id": "2a8d5e9e2b8e45ad9d34a3f0a91df57c",
       "version_major": 2,
       "version_minor": 0
      },
      "text/plain": [
       "tokenizing... (num_proc=8):   0%|          | 0/2272 [00:00<?, ? examples/s]"
      ]
     },
     "metadata": {},
     "output_type": "display_data"
    },
    {
     "data": {
      "application/vnd.jupyter.widget-view+json": {
       "model_id": "f15eb641c08e4c648511b93a2d038dbd",
       "version_major": 2,
       "version_minor": 0
      },
      "text/plain": [
       "tokenizing... (num_proc=8):   0%|          | 0/1936 [00:00<?, ? examples/s]"
      ]
     },
     "metadata": {},
     "output_type": "display_data"
    }
   ],
   "source": [
    "tokenized = wikitext.map(\n",
    "    process,\n",
    "    remove_columns=['text'],\n",
    "    desc='tokenizing...',\n",
    "    num_proc=8,\n",
    ")"
   ]
  },
  {
   "cell_type": "code",
   "execution_count": 27,
   "id": "9aec4a4a-8d2d-4fd7-9680-1c765a1a1550",
   "metadata": {},
   "outputs": [
    {
     "data": {
      "text/plain": [
       "DatasetDict({\n",
       "    test: Dataset({\n",
       "        features: ['ids', 'len'],\n",
       "        num_rows: 2272\n",
       "    })\n",
       "    train: Dataset({\n",
       "        features: ['ids', 'len'],\n",
       "        num_rows: 909837\n",
       "    })\n",
       "    validation: Dataset({\n",
       "        features: ['ids', 'len'],\n",
       "        num_rows: 1936\n",
       "    })\n",
       "})"
      ]
     },
     "execution_count": 27,
     "metadata": {},
     "output_type": "execute_result"
    }
   ],
   "source": [
    "tokenized"
   ]
  },
  {
   "cell_type": "code",
   "execution_count": 30,
   "id": "a5176bc0-701a-4820-a8c3-d8e4a0925638",
   "metadata": {},
   "outputs": [
    {
     "data": {
      "application/vnd.jupyter.widget-view+json": {
       "model_id": "6ee90abade3e4bbda636b9f611122996",
       "version_major": 2,
       "version_minor": 0
      },
      "text/plain": [
       "writing test.bin:   0%|          | 0/1024 [00:00<?, ?it/s]"
      ]
     },
     "metadata": {},
     "output_type": "display_data"
    },
    {
     "data": {
      "application/vnd.jupyter.widget-view+json": {
       "model_id": "99043489068047e0961e1bca5d80eec0",
       "version_major": 2,
       "version_minor": 0
      },
      "text/plain": [
       "writing train.bin:   0%|          | 0/1024 [00:00<?, ?it/s]"
      ]
     },
     "metadata": {},
     "output_type": "display_data"
    },
    {
     "data": {
      "application/vnd.jupyter.widget-view+json": {
       "model_id": "1f57009c5a1d4e399b7c0541be19e2a9",
       "version_major": 2,
       "version_minor": 0
      },
      "text/plain": [
       "writing validation.bin:   0%|          | 0/1024 [00:00<?, ?it/s]"
      ]
     },
     "metadata": {},
     "output_type": "display_data"
    }
   ],
   "source": [
    "for split, ds in tokenized.items():\n",
    "    arr_len = np.sum(ds['len'], dtype=np.int64)\n",
    "    fname = f'{split}.bin'\n",
    "    arr = np.memmap(fname, dtype=np.uint16, mode='w+', shape=(arr_len,))\n",
    "    n_batches = 1024\n",
    "    idx = 0\n",
    "    for batch_idx in trange(n_batches, desc=f'writing {fname}'):\n",
    "        batch = ds.shard(n_batches, batch_idx, True).with_format('numpy')\n",
    "        arr_batch = np.concatenate(batch['ids'])\n",
    "        arr[idx:idx+len(arr_batch)] = arr_batch\n",
    "        idx += len(arr_batch)\n",
    "    arr.flush()"
   ]
  },
  {
   "cell_type": "code",
   "execution_count": 31,
   "id": "c53c3b55-5318-4b3c-b924-306785733100",
   "metadata": {},
   "outputs": [],
   "source": [
    "import trdg"
   ]
  },
  {
   "cell_type": "code",
   "execution_count": 170,
   "id": "15ac69bb-d661-4eb5-bb45-05ddecc384f8",
   "metadata": {},
   "outputs": [],
   "source": [
    "class TextPicker:\n",
    "    def __init__(self, ds, n):\n",
    "        self.ds, self.n = ds, n\n",
    "        self.total_len = 360854845\n",
    "        self.it = nword_picker(ds, n)\n",
    "        # for doc in tqdm(ds):\n",
    "        #     self.total_len += len(doc['text'])\n",
    "\n",
    "    def __len__(self):\n",
    "        return self.total_len\n",
    "\n",
    "    def __getitem__(self, idx):\n",
    "        return next(self.it)\n",
    "\n",
    "    def __iter__(self):\n",
    "        return nword_picker(self.ds, self.n)"
   ]
  },
  {
   "cell_type": "code",
   "execution_count": 205,
   "id": "943c2c9c-8a30-4b7b-8302-55ba9c17bea7",
   "metadata": {},
   "outputs": [],
   "source": [
    "def nword_picker(ds, n):\n",
    "    for doc in ds:\n",
    "        words = doc['text'].split()\n",
    "        for i in range(0, len(words)-n):\n",
    "            yield ' '.join(words[i:i+n])            "
   ]
  },
  {
   "cell_type": "code",
   "execution_count": 206,
   "id": "e85f2883-670d-4542-a4f5-d4a6303e4250",
   "metadata": {},
   "outputs": [],
   "source": [
    "tp = TextPicker(wikitext['train'].shuffle(seed=0), 3)"
   ]
  },
  {
   "cell_type": "code",
   "execution_count": 212,
   "id": "c0e74f0f-323b-4385-a396-eb5b568f99d2",
   "metadata": {},
   "outputs": [
    {
     "data": {
      "text/plain": [
       "'Chris Traeger character'"
      ]
     },
     "execution_count": 212,
     "metadata": {},
     "output_type": "execute_result"
    }
   ],
   "source": [
    "tp[0]"
   ]
  },
  {
   "cell_type": "code",
   "execution_count": 220,
   "id": "b7fb327a-b093-4409-b16c-6befcdab982e",
   "metadata": {},
   "outputs": [],
   "source": [
    "gen = trdg.generators.GeneratorFromStrings(tp)"
   ]
  },
  {
   "cell_type": "code",
   "execution_count": 221,
   "id": "2809b4a4-b95f-4f71-a5f7-3d041bdb16af",
   "metadata": {},
   "outputs": [
    {
     "data": {
      "application/vnd.jupyter.widget-view+json": {
       "model_id": "7b535674803340309680e1e11d942ca2",
       "version_major": 2,
       "version_minor": 0
      },
      "text/plain": [
       "0it [00:00, ?it/s]"
      ]
     },
     "metadata": {},
     "output_type": "display_data"
    },
    {
     "name": "stdout",
     "output_type": "stream",
     "text": [
      "Rick Porter of\n"
     ]
    }
   ],
   "source": [
    "for im, text in tqdm(gen):\n",
    "    print(text)\n",
    "    break"
   ]
  },
  {
   "cell_type": "code",
   "execution_count": 222,
   "id": "9c0b052b-c352-4816-b066-ebcb9c55cda5",
   "metadata": {},
   "outputs": [
    {
     "data": {
      "image/png": "[encoded data removed]",
      "text/plain": [
       "<PIL.Image.Image image mode=RGB size=124x32>"
      ]
     },
     "execution_count": 222,
     "metadata": {},
     "output_type": "execute_result"
    }
   ],
   "source": [
    "im"
   ]
  },
  {
   "cell_type": "code",
   "execution_count": 223,
   "id": "d6a8291c-0d77-4d11-9cc4-d2df7f1151a0",
   "metadata": {},
   "outputs": [],
   "source": [
    "import torch\n",
    "from torch.utils.data import IterableDataset"
   ]
  },
  {
   "cell_type": "code",
   "execution_count": 224,
   "id": "d258424a-d8f8-4bf3-91b8-151b1241af60",
   "metadata": {},
   "outputs": [],
   "source": [
    "class SynthDataset(IterableDataset):\n",
    "    def __init__(self, count, min_len, max_len, filter=None, transform=None):\n",
    "        super().__init__()\n",
    "        self.gens = [GeneratorFromDict(length=i, text_color='#000000', image_mode='L') \n",
    "            for i in range(min_len, max_len+1)]\n",
    "        self.filter = filter\n",
    "        self.transform = transform\n",
    "        self.count = count\n",
    "\n",
    "    def __iter__(self):\n",
    "        def generator():\n",
    "            k = 0\n",
    "            while k < self.count:\n",
    "                gen = random.choice(self.gens)\n",
    "                im, text = next(gen)\n",
    "                if filter and not filter(im, text):\n",
    "                    continue\n",
    "                if self.transform:\n",
    "                    im, text = self.transform(im, text)\n",
    "                yield im, text\n",
    "                k += 1\n",
    "        return generator()"
   ]
  }
 ],
 "metadata": {
  "kernelspec": {
   "display_name": "Python 3 (ipykernel)",
   "language": "python",
   "name": "python3"
  },
  "language_info": {
   "codemirror_mode": {
    "name": "ipython",
    "version": 3
   },
   "file_extension": ".py",
   "mimetype": "text/x-python",
   "name": "python",
   "nbconvert_exporter": "python",
   "pygments_lexer": "ipython3",
   "version": "3.10.12"
  }
 },
 "nbformat": 4,
 "nbformat_minor": 5
}
